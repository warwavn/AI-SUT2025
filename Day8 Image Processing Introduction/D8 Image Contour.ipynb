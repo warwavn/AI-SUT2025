{
 "cells": [
  {
   "cell_type": "code",
   "execution_count": 1,
   "metadata": {},
   "outputs": [],
   "source": [
    "import cv2\n",
    "import matplotlib.pyplot as plt\n",
    "import numpy as np"
   ]
  },
  {
   "cell_type": "code",
   "execution_count": 4,
   "metadata": {},
   "outputs": [],
   "source": [
    "img = cv2.imread(\"golden.jpg\")\n",
    "gray = cv2.cvtColor(img,cv2.COLOR_BGR2GRAY)\n",
    "\n",
    "thresh, result = cv2.threshold(gray, 246,255, cv2.THRESH_BINARY)      # 246,255 is better\n",
    "\n",
    "# Find Image Contour\n",
    "contours, hierarchy = cv2.findContours(result, cv2.RETR_TREE, cv2.CHAIN_APPROX_NONE)\n",
    "# print(contours) # Show array of contours\n",
    "# print(len(contours)) # Count points of contour\n",
    "\n",
    "# Draw contour\n",
    "cv2.drawContours(img, contours, -1, (0,255,0), 2) # draw green line, width = 2\n",
    "\n",
    "# cv2.imshow(\"Binary img\", result)\n",
    "cv2.imshow(\"Contours img\", img)\n",
    "cv2.waitKey(0)\n",
    "cv2.destroyAllWindows()"
   ]
  }
 ],
 "metadata": {
  "kernelspec": {
   "display_name": ".venv",
   "language": "python",
   "name": "python3"
  },
  "language_info": {
   "codemirror_mode": {
    "name": "ipython",
    "version": 3
   },
   "file_extension": ".py",
   "mimetype": "text/x-python",
   "name": "python",
   "nbconvert_exporter": "python",
   "pygments_lexer": "ipython3",
   "version": "3.13.1"
  }
 },
 "nbformat": 4,
 "nbformat_minor": 2
}
