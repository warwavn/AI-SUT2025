{
 "cells": [
  {
   "cell_type": "code",
   "execution_count": 1,
   "metadata": {},
   "outputs": [],
   "source": [
    "import cv2\n",
    "import numpy as np\n",
    "img = cv2.imread(\"colorballs.jpg\")\n",
    "hsv = cv2.cvtColor(img, cv2.COLOR_BGR2HSV)\n",
    "\n",
    "# define range of red color in HSV\n",
    "lower_red = np.array([0, 50, 50])\n",
    "upper_red = np.array([10, 255, 255])\n",
    "\n",
    "# define range of green color in HSV\n",
    "lower_green = np.array([40, 20, 50])\n",
    "upper_green = np.array([90, 255, 255])\n",
    "\n",
    "# define range of blue color in HSV\n",
    "lower_blue = np.array([100, 50, 50])\n",
    "upper_blue = np.array([130, 255, 255])\n",
    "\n",
    "# create a mask for red color\n",
    "mask_red = cv2.inRange(hsv, lower_red, upper_red)\n",
    "# create a mask for green color\n",
    "mask_green = cv2.inRange(hsv, lower_green, upper_green)\n",
    "# create a mask for blue color\n",
    "mask_blue = cv2.inRange(hsv, lower_blue, upper_blue)\n",
    "\n",
    "# find contours in the red mask\n",
    "contours_red, _ = cv2.findContours(mask_red, cv2.RETR_TREE, cv2.CHAIN_APPROX_SIMPLE)\n",
    "# find contours in the green mask\n",
    "contours_green, _ = cv2.findContours(mask_green, cv2.RETR_TREE, cv2.CHAIN_APPROX_SIMPLE)\n",
    "# find contours in the blue mask\n",
    "contours_blue, _ = cv2.findContours(mask_blue, cv2.RETR_TREE, cv2.CHAIN_APPROX_SIMPLE)"
   ]
  },
  {
   "cell_type": "code",
   "execution_count": 2,
   "metadata": {},
   "outputs": [],
   "source": [
    "for cnt in contours_red:\n",
    "    contour_area = cv2.contourArea(cnt)\n",
    "    if contour_area > 1000:\n",
    "        x, y, w, h = cv2.boundingRect(cnt)\n",
    "        cv2.rectangle(img, (x, y), (x + w, y + h), (0, 0, 255), 2)\n",
    "        cv2.putText(img, 'Red', (x, y-10), cv2.FONT_HERSHEY_SIMPLEX, 0.9, (0, 0, 255), 2)\n",
    "# loop through the green contours and draw a rectangle around them\n",
    "for cnt in contours_green:\n",
    "    contour_area = cv2.contourArea(cnt)\n",
    "    if contour_area > 1000:\n",
    "        x, y, w, h = cv2.boundingRect(cnt)\n",
    "        cv2.rectangle(img, (x, y), (x + w, y + h), (0, 255, 0), 2)\n",
    "        cv2.putText(img, 'Green', (x, y-10), cv2.FONT_HERSHEY_SIMPLEX, 0.9, (0, 255, 0), 2)\n",
    "# loop through the blue contours and draw a rectangle around them\n",
    "for cnt in contours_blue:\n",
    "    contour_area = cv2.contourArea(cnt)\n",
    "    if contour_area > 1000:\n",
    "        x, y, w, h = cv2.boundingRect(cnt)\n",
    "        cv2.rectangle(img, (x, y), (x + w, y + h), (255, 0, 0), 2)\n",
    "    cv2.putText(img, 'Blue', (x, y-10), cv2.FONT_HERSHEY_SIMPLEX, 0.9, (255, 0, 0), 2)\n",
    "# Display final output for multiple color detection opencv python\n",
    "cv2.imshow('image', img)\n",
    "cv2.waitKey(0)\n",
    "cv2.destroyAllWindows()"
   ]
  }
 ],
 "metadata": {
  "kernelspec": {
   "display_name": ".venv",
   "language": "python",
   "name": "python3"
  },
  "language_info": {
   "codemirror_mode": {
    "name": "ipython",
    "version": 3
   },
   "file_extension": ".py",
   "mimetype": "text/x-python",
   "name": "python",
   "nbconvert_exporter": "python",
   "pygments_lexer": "ipython3",
   "version": "3.13.1"
  }
 },
 "nbformat": 4,
 "nbformat_minor": 2
}
