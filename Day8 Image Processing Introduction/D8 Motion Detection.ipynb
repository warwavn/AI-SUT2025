{
 "cells": [
  {
   "cell_type": "code",
   "execution_count": 15,
   "metadata": {},
   "outputs": [],
   "source": [
    "import cv2\n",
    "cap = cv2.VideoCapture(\"walking.mp4\")\n",
    "# Read 2 frames to check for movement in any area from the difference between frames.\n",
    "check , frame1 = cap.read() # Mark contour\n",
    "check , frame2 = cap.read()\n",
    "while (cap.isOpened()):\n",
    "    if check == True :\n",
    "        #frame diff\n",
    "        motiondiff = cv2.absdiff(frame1,frame2)\n",
    "        gray = cv2.cvtColor(motiondiff,cv2.COLOR_BGR2GRAY) # convert to gray scale\n",
    "\n",
    "        #image quality\n",
    "        blur = cv2.GaussianBlur(gray, (5,5), 0) # Blur to reduce noise\n",
    "        thresh, result = cv2.threshold(blur, 15, 255, cv2.THRESH_BINARY) # Convert to Binary\n",
    "        dilation = cv2.dilate(result,None,iterations = 3) # Enlarge the human image area\n",
    "\n",
    "        #find and draw contour\n",
    "        contours, hierarchy = cv2.findContours(dilation, cv2.RETR_TREE, cv2.CHAIN_APPROX_NONE)\n",
    "        cv2.drawContours(frame1, contours, -1, (0,255,0), 2)\n",
    "        cv2.imshow(\"Motion detection\", frame1) # Draw contour\n",
    "        frame1 = frame2\n",
    "        check, frame2 = cap.read() # Display contour lines to the next frame.\n",
    "        if cv2.waitKey(1) & 0xFF == ord(\"e\"):\n",
    "            break\n",
    "    else :\n",
    "        break\n",
    "cap.release()\n",
    "cv2.destroyAllWindows()"
   ]
  },
  {
   "cell_type": "markdown",
   "metadata": {},
   "source": [
    "change Contour to rectangle"
   ]
  },
  {
   "cell_type": "code",
   "execution_count": 20,
   "metadata": {},
   "outputs": [],
   "source": [
    "import cv2\n",
    "cap = cv2.VideoCapture(\"walking.mp4\")\n",
    "# Read 2 frames to check for movement in any area from the difference between frames.\n",
    "check , frame1 = cap.read() # Mark contour\n",
    "check , frame2 = cap.read()\n",
    "while (cap.isOpened()):\n",
    "    if check == True :\n",
    "        #frame diff\n",
    "        motiondiff = cv2.absdiff(frame1,frame2)\n",
    "        gray = cv2.cvtColor(motiondiff,cv2.COLOR_BGR2GRAY) # convert to gray scale\n",
    "\n",
    "        #image quality\n",
    "        blur = cv2.GaussianBlur(gray, (5,5), 0) # Blur to reduce noise\n",
    "        thresh, result = cv2.threshold(blur, 15, 255, cv2.THRESH_BINARY) # Convert to Binary\n",
    "        dilation = cv2.dilate(result,None,iterations = 3) # Enlarge the human image area\n",
    "\n",
    "        #find and draw contour\n",
    "        contours, hierarchy = cv2.findContours(dilation, cv2.RETR_TREE, cv2.CHAIN_APPROX_NONE)\n",
    "        #########################################################################\n",
    "        for contour in contours:\n",
    "            # read coordinate in contour\n",
    "            (x,y,w,h) = cv2.boundingRect(contour)\n",
    "\n",
    "            # Define Rectangle size\n",
    "            if cv2.contourArea(contour) < 1500:\n",
    "                continue\n",
    "            cv2.rectangle(frame1, (x,y), (x+w, y+h), (0,255,0), 2)\n",
    "        #########################################################################\n",
    "        cv2.imshow(\"Motion detection\", frame1) # Draw contour\n",
    "        frame1 = frame2\n",
    "        check, frame2 = cap.read() # Display contour lines to the next frame.\n",
    "        if cv2.waitKey(1) & 0xFF == ord(\"x\"):\n",
    "            break\n",
    "    else :\n",
    "        break\n",
    "cap.release()\n",
    "cv2.destroyAllWindows()"
   ]
  },
  {
   "cell_type": "code",
   "execution_count": null,
   "metadata": {},
   "outputs": [],
   "source": []
  }
 ],
 "metadata": {
  "kernelspec": {
   "display_name": ".venv",
   "language": "python",
   "name": "python3"
  },
  "language_info": {
   "codemirror_mode": {
    "name": "ipython",
    "version": 3
   },
   "file_extension": ".py",
   "mimetype": "text/x-python",
   "name": "python",
   "nbconvert_exporter": "python",
   "pygments_lexer": "ipython3",
   "version": "3.13.1"
  }
 },
 "nbformat": 4,
 "nbformat_minor": 2
}
