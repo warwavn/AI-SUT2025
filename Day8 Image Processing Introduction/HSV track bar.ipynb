{
 "cells": [
  {
   "cell_type": "code",
   "execution_count": 1,
   "metadata": {},
   "outputs": [
    {
     "ename": "error",
     "evalue": "OpenCV(4.11.0) D:\\a\\opencv-python\\opencv-python\\opencv\\modules\\highgui\\src\\window_w32.cpp:2564: error: (-27:Null pointer) NULL window: 'Color Trackbar' in function 'cvGetTrackbarPos'\n",
     "output_type": "error",
     "traceback": [
      "\u001b[1;31m---------------------------------------------------------------------------\u001b[0m",
      "\u001b[1;31merror\u001b[0m                                     Traceback (most recent call last)",
      "Cell \u001b[1;32mIn[1], line 20\u001b[0m\n\u001b[0;32m     16\u001b[0m cv2\u001b[38;5;241m.\u001b[39mcreateTrackbar(\u001b[38;5;124m\"\u001b[39m\u001b[38;5;124mV\u001b[39m\u001b[38;5;124m\"\u001b[39m, \u001b[38;5;124m\"\u001b[39m\u001b[38;5;124mColor Trackbar\u001b[39m\u001b[38;5;124m\"\u001b[39m, \u001b[38;5;241m0\u001b[39m, \u001b[38;5;241m255\u001b[39m, display)  \u001b[38;5;66;03m# Value (0-255)\u001b[39;00m\n\u001b[0;32m     18\u001b[0m \u001b[38;5;28;01mwhile\u001b[39;00m \u001b[38;5;28;01mTrue\u001b[39;00m:\n\u001b[0;32m     19\u001b[0m     \u001b[38;5;66;03m# Get HSV trackbar positions\u001b[39;00m\n\u001b[1;32m---> 20\u001b[0m     h \u001b[38;5;241m=\u001b[39m \u001b[43mcv2\u001b[49m\u001b[38;5;241;43m.\u001b[39;49m\u001b[43mgetTrackbarPos\u001b[49m\u001b[43m(\u001b[49m\u001b[38;5;124;43m\"\u001b[39;49m\u001b[38;5;124;43mH\u001b[39;49m\u001b[38;5;124;43m\"\u001b[39;49m\u001b[43m,\u001b[49m\u001b[43m \u001b[49m\u001b[38;5;124;43m\"\u001b[39;49m\u001b[38;5;124;43mColor Trackbar\u001b[39;49m\u001b[38;5;124;43m\"\u001b[39;49m\u001b[43m)\u001b[49m\n\u001b[0;32m     21\u001b[0m     s \u001b[38;5;241m=\u001b[39m cv2\u001b[38;5;241m.\u001b[39mgetTrackbarPos(\u001b[38;5;124m\"\u001b[39m\u001b[38;5;124mS\u001b[39m\u001b[38;5;124m\"\u001b[39m, \u001b[38;5;124m\"\u001b[39m\u001b[38;5;124mColor Trackbar\u001b[39m\u001b[38;5;124m\"\u001b[39m)\n\u001b[0;32m     22\u001b[0m     v \u001b[38;5;241m=\u001b[39m cv2\u001b[38;5;241m.\u001b[39mgetTrackbarPos(\u001b[38;5;124m\"\u001b[39m\u001b[38;5;124mV\u001b[39m\u001b[38;5;124m\"\u001b[39m, \u001b[38;5;124m\"\u001b[39m\u001b[38;5;124mColor Trackbar\u001b[39m\u001b[38;5;124m\"\u001b[39m)\n",
      "\u001b[1;31merror\u001b[0m: OpenCV(4.11.0) D:\\a\\opencv-python\\opencv-python\\opencv\\modules\\highgui\\src\\window_w32.cpp:2564: error: (-27:Null pointer) NULL window: 'Color Trackbar' in function 'cvGetTrackbarPos'\n"
     ]
    }
   ],
   "source": [
    "import cv2\n",
    "import numpy as np\n",
    "\n",
    "# Create a black image\n",
    "img = np.zeros((300, 250, 3), np.uint8)\n",
    "\n",
    "cv2.namedWindow(\"Color Trackbar\")\n",
    "\n",
    "# Trackbar callback function\n",
    "def display(value):\n",
    "    pass  # No need to print values continuously\n",
    "\n",
    "# Create trackbars for HSV values\n",
    "cv2.createTrackbar(\"H\", \"Color Trackbar\", 0, 179, display)  # Hue (0-179)\n",
    "cv2.createTrackbar(\"S\", \"Color Trackbar\", 0, 255, display)  # Saturation (0-255)\n",
    "cv2.createTrackbar(\"V\", \"Color Trackbar\", 0, 255, display)  # Value (0-255)\n",
    "\n",
    "while True:\n",
    "    # Get HSV trackbar positions\n",
    "    h = cv2.getTrackbarPos(\"H\", \"Color Trackbar\")\n",
    "    s = cv2.getTrackbarPos(\"S\", \"Color Trackbar\")\n",
    "    v = cv2.getTrackbarPos(\"V\", \"Color Trackbar\")\n",
    "\n",
    "    # Create an HSV image (fill it with the chosen HSV color)\n",
    "    hsv_img = np.full((300, 250, 3), (h, s, v), dtype=np.uint8)\n",
    "\n",
    "    # Convert HSV image to BGR for display\n",
    "    bgr_img = cv2.cvtColor(hsv_img, cv2.COLOR_HSV2BGR)\n",
    "\n",
    "    # Show the updated image\n",
    "    cv2.imshow(\"Color Trackbar\", bgr_img)\n",
    "\n",
    "    # Break the loop when 'e' is pressed\n",
    "    if cv2.waitKey(1) & 0xFF == ord(\"e\"):\n",
    "        break\n",
    "\n",
    "cv2.destroyAllWindows()\n"
   ]
  }
 ],
 "metadata": {
  "kernelspec": {
   "display_name": "vs",
   "language": "python",
   "name": "python3"
  },
  "language_info": {
   "codemirror_mode": {
    "name": "ipython",
    "version": 3
   },
   "file_extension": ".py",
   "mimetype": "text/x-python",
   "name": "python",
   "nbconvert_exporter": "python",
   "pygments_lexer": "ipython3",
   "version": "3.11.1"
  }
 },
 "nbformat": 4,
 "nbformat_minor": 2
}
