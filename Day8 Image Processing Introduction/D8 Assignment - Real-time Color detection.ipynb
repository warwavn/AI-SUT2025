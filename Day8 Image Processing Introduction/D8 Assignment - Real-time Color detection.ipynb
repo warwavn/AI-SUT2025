{
 "cells": [
  {
   "cell_type": "markdown",
   "metadata": {},
   "source": [
    "Assignment 3 : Real-time Color detection\n",
    "Build accurate real-time multi-colors object detection\n",
    "- Detect objects in real-time using a webcam.\n",
    "- Detect objects by distinguishing them by color, at least 3 colors.\n",
    "- Draw a frame around the object, specifying the color of the frame to match the color\n",
    "of the object, and write a message naming the color.\n",
    "- Can count the number of objects that appear in each color."
   ]
  },
  {
   "cell_type": "code",
   "execution_count": 2,
   "metadata": {},
   "outputs": [],
   "source": [
    "import cv2\n",
    "import pandas as pd\n",
    "import numpy as np"
   ]
  },
  {
   "cell_type": "code",
   "execution_count": 43,
   "metadata": {},
   "outputs": [],
   "source": [
    "\n",
    "cap = cv2.VideoCapture(0)\n",
    "cv2.namedWindow(\"Output\")\n",
    "\n",
    "def detect_color(frame):\n",
    "    hsv = cv2.cvtColor(frame, cv2.COLOR_BGR2HSV)\n",
    "    colors = {\n",
    "        \"Orange\": ([0, 200, 120], [10, 255, 255]),\n",
    "        \"Yellow\": ([15, 100, 100], [30, 255, 255]),\n",
    "        \"Cyan\": ([85, 100, 100], [140, 255, 255])\n",
    "    }\n",
    "    \n",
    "    detected_objects = []\n",
    "    color_counts = {\"Orange\": 0, \"Yellow\": 0, \"Cyan\": 0}\n",
    "    \n",
    "    for color, (lower, upper) in colors.items():\n",
    "        lower = np.array(lower, dtype=np.uint8)\n",
    "        upper = np.array(upper, dtype=np.uint8)\n",
    "        mask = cv2.inRange(hsv, lower, upper)\n",
    "        kernel = np.ones((5,5), np.uint8)\n",
    "        mask = cv2.morphologyEx(mask, cv2.MORPH_OPEN, kernel)\n",
    "        mask = cv2.morphologyEx(mask, cv2.MORPH_CLOSE, kernel)\n",
    "        contours, _ = cv2.findContours(mask, cv2.RETR_TREE, cv2.CHAIN_APPROX_SIMPLE)\n",
    "        \n",
    "        for cnt in contours:\n",
    "            if cv2.contourArea(cnt) > 2000:  # Ignore small areas\n",
    "                x, y, w, h = cv2.boundingRect(cnt)\n",
    "                detected_objects.append((x, y, w, h, color))\n",
    "                color_counts[color] += 1\n",
    "    return detected_objects, color_counts\n",
    "\n",
    "while True:\n",
    "    ret, frame = cap.read()\n",
    "    if not ret:\n",
    "        break\n",
    "    \n",
    "    flipped_frame = cv2.flip(frame, 1)\n",
    "    objects, color_counts = detect_color(flipped_frame)\n",
    "    \n",
    "    for (x, y, w, h, color) in objects:\n",
    "        color_map = {\"Orange\": (0, 165, 255), \"Yellow\": (0, 255, 255), \"Cyan\": (255, 255, 0)}\n",
    "        cv2.rectangle(flipped_frame, (x, y), (x + w, y + h), color_map[color], 2)\n",
    "        cv2.putText(flipped_frame, color, (x, y - 10), cv2.FONT_HERSHEY_SIMPLEX, 0.6, color_map[color], 2)\n",
    "    \n",
    "    text_y = 20\n",
    "    for color, count in color_counts.items():\n",
    "        cv2.putText(flipped_frame, f\"{color}: {count}\", (10, text_y), cv2.FONT_HERSHEY_SIMPLEX, 0.6, (0, 0, 0), 2)\n",
    "        text_y += 20\n",
    "    \n",
    "    cv2.imshow(\"Output\", flipped_frame)\n",
    "    if cv2.waitKey(1) & 0xFF == ord('x'):\n",
    "        break\n",
    "\n",
    "cap.release()\n",
    "cv2.destroyAllWindows()\n"
   ]
  }
 ],
 "metadata": {
  "kernelspec": {
   "display_name": ".venv",
   "language": "python",
   "name": "python3"
  },
  "language_info": {
   "codemirror_mode": {
    "name": "ipython",
    "version": 3
   },
   "file_extension": ".py",
   "mimetype": "text/x-python",
   "name": "python",
   "nbconvert_exporter": "python",
   "pygments_lexer": "ipython3",
   "version": "3.13.1"
  }
 },
 "nbformat": 4,
 "nbformat_minor": 2
}
