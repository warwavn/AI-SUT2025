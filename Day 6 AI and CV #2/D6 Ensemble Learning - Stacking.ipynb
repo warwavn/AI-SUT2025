{
 "cells": [
  {
   "cell_type": "code",
   "execution_count": 10,
   "metadata": {},
   "outputs": [],
   "source": [
    "from sklearn.datasets import make_classification, make_regression\n",
    "from sklearn.ensemble import StackingClassifier, StackingRegressor\n",
    "from sklearn.model_selection import train_test_split\n",
    "# LV0\n",
    "from sklearn.tree import DecisionTreeClassifier\n",
    "from sklearn.svm import SVC\n",
    "from sklearn.neighbors import KNeighborsClassifier\n",
    "from sklearn.naive_bayes import GaussianNB\n",
    "#LV 1\n",
    "from sklearn.linear_model import LogisticRegression     "
   ]
  },
  {
   "cell_type": "code",
   "execution_count": 11,
   "metadata": {},
   "outputs": [],
   "source": [
    "x,y = make_classification(n_samples=1000,n_features=4,n_classes=2,random_state=0)\n",
    "\n",
    "\n",
    "x_train,y_train,x_test,y_test = train_test_split(x,y,random_state=0)\n",
    "\n",
    "base_estimator = [\n",
    "    ('tree',DecisionTreeClassifier(random_state=0)),\n",
    "    ('svc',SVC(kernel='linear')),\n",
    "    ('knn',KNeighborsClassifier(n_neighbors=5)),\n",
    "    ('bayes',GaussianNB()),\n",
    "    ('SVC_poly',SVC(kernel='poly',degree=2))\n",
    "]\n",
    "\n"
   ]
  },
  {
   "cell_type": "code",
   "execution_count": 14,
   "metadata": {},
   "outputs": [
    {
     "name": "stdout",
     "output_type": "stream",
     "text": [
      "Stacking Score:  0.924\n"
     ]
    }
   ],
   "source": [
    "stack = StackingClassifier(estimators=base_estimator, final_estimator=LogisticRegression())\n",
    "stack.fit(x_train,y_train)\n",
    "\n",
    "score = stack.score(x_test,y_test)\n",
    "\n",
    "print(\"Stacking Score: \",score)"
   ]
  }
 ],
 "metadata": {
  "kernelspec": {
   "display_name": ".venv",
   "language": "python",
   "name": "python3"
  },
  "language_info": {
   "codemirror_mode": {
    "name": "ipython",
    "version": 3
   },
   "file_extension": ".py",
   "mimetype": "text/x-python",
   "name": "python",
   "nbconvert_exporter": "python",
   "pygments_lexer": "ipython3",
   "version": "3.13.1"
  }
 },
 "nbformat": 4,
 "nbformat_minor": 2
}
