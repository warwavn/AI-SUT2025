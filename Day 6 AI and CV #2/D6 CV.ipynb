{
 "cells": [
  {
   "cell_type": "code",
   "execution_count": 1,
   "metadata": {},
   "outputs": [
    {
     "name": "stdout",
     "output_type": "stream",
     "text": [
      "KNN Best Score: 0.9613333333333334\n",
      "KNN Best Params: {'n_neighbors': 9}\n",
      "RF Best Score: 0.9640000000000001\n",
      "RF Best Params: {'criterion': 'gini', 'n_estimators': 80}\n",
      "SVM Best Score: 0.9653333333333334\n",
      "SVM Best Params: {'C': 5, 'gamma': 3, 'kernel': 'rbf'}\n",
      "Total Time: 59.87959313392639 - sec\n"
     ]
    }
   ],
   "source": [
    "from sklearn.datasets import make_classification\n",
    "from sklearn.model_selection import train_test_split\n",
    "from sklearn.neighbors import KNeighborsClassifier\n",
    "from sklearn.ensemble import RandomForestClassifier\n",
    "from sklearn.svm import SVC\n",
    "from sklearn.model_selection import GridSearchCV\n",
    "import time\n",
    "x, y = make_classification(n_samples=1000, n_features=4,n_classes=2, random_state=0)\n",
    "x_train, x_test, y_train, y_test = train_test_split(x, y, random_state=0)\n",
    "time_start = time.time()\n",
    "\n",
    "#kNN\n",
    "knn = KNeighborsClassifier()\n",
    "knn_params = {'n_neighbors': range(1, 50, 2)}\n",
    "knn_grid = GridSearchCV(estimator=knn, param_grid=knn_params)\n",
    "# knn_grid = GridSearchCV(estimator=KNeighborsClassifier(),param_grid={'n_neighbors': range(1, 50, 2)})\n",
    "knn_grid.fit(x_train, y_train)\n",
    "print('KNN Best Score:', knn_grid.best_score_)\n",
    "print('KNN Best Params:', knn_grid.best_params_)\n",
    "\n",
    "#Random Forest\n",
    "forest = RandomForestClassifier()\n",
    "forest_params = {'n_estimators': range(10,100,5),       #10,15,20,...95\n",
    "                 'criterion':['entropy','gini'],\n",
    "                #  'max_depth':range(1,80)\n",
    "                 }\n",
    "forest_grid = GridSearchCV(estimator=forest,param_grid=forest_params)\n",
    "forest_grid.fit(x_train,y_train)\n",
    "print('RF Best Score:', forest_grid.best_score_)\n",
    "print('RF Best Params:', forest_grid.best_params_)\n",
    "\n",
    "#Support Vector Machine\n",
    "svm = SVC()\n",
    "svm_params = [\n",
    "    {'kernel': ['linear'], 'C': [0.1, 1, 5, 10, 50]},\n",
    "    {'kernel': ['rbf'], 'C': [0.1, 1, 5, 10, 50], 'gamma': range(1, 10)},\n",
    "    {'kernel': ['poly'], 'C': [0.1, 1, 5, 10, 50], 'degree': range(1, 10)},\n",
    "]\n",
    "svm_grid = GridSearchCV(estimator=svm, param_grid=svm_params)\n",
    "svm_grid.fit(x_train, y_train)\n",
    "print('SVM Best Score:', svm_grid.best_score_)\n",
    "print('SVM Best Params:', svm_grid.best_params_)\n",
    "\n",
    "time_end = time.time()\n",
    "print(f'Total Time: {time_end - time_start} - sec')"
   ]
  },
  {
   "cell_type": "code",
   "execution_count": 2,
   "metadata": {},
   "outputs": [
    {
     "name": "stdout",
     "output_type": "stream",
     "text": [
      "KNN Best Score: 0.9559999999999998\n",
      "KNN Best Params: {'n_neighbors': 21}\n",
      "RF Best Score: 0.9626666666666667\n",
      "RF Best Params: {'n_estimators': 75, 'criterion': 'gini'}\n",
      "SVM Best Score: 0.9653333333333334\n",
      "SVM Best Params: {'kernel': 'rbf', 'gamma': 1, 'C': 10}\n",
      "Total Time: 59.87959313392639 - sec\n"
     ]
    }
   ],
   "source": [
    "from sklearn.model_selection import RandomizedSearchCV\n",
    "\n",
    "time_start_random = time.time()\n",
    "\n",
    "#kNN\n",
    "knn = KNeighborsClassifier()\n",
    "knn_params = {'n_neighbors': range(1, 50, 2)}\n",
    "knn_rand = RandomizedSearchCV(estimator=knn, param_distributions=knn_params)\n",
    "# knn_grid = GridSearchCV(estimator=KNeighborsClassifier(),param_grid={'n_neighbors': range(1, 50, 2)})\n",
    "knn_rand.fit(x_train, y_train)\n",
    "print('KNN Best Score:', knn_rand.best_score_)\n",
    "print('KNN Best Params:', knn_rand.best_params_)\n",
    "\n",
    "#Random Forest\n",
    "forest = RandomForestClassifier()\n",
    "forest_params = {'n_estimators': range(10,100,5),       #10,15,20,...95\n",
    "                 'criterion':['entropy','gini'],\n",
    "                #  'max_depth':range(1,80)\n",
    "                 }\n",
    "forest_rand = RandomizedSearchCV(estimator=forest,param_distributions=forest_params)\n",
    "forest_rand.fit(x_train,y_train)\n",
    "print('RF Best Score:', forest_rand.best_score_)\n",
    "print('RF Best Params:', forest_rand.best_params_)\n",
    "\n",
    "#Support Vector Machine\n",
    "svm = SVC()\n",
    "svm_params = [\n",
    "    {'kernel': ['linear'], 'C': [0.1, 1, 5, 10, 50]},\n",
    "    {'kernel': ['rbf'], 'C': [0.1, 1, 5, 10, 50], 'gamma': range(1, 10)},\n",
    "    {'kernel': ['poly'], 'C': [0.1, 1, 5, 10, 50], 'degree': range(1, 10)},\n",
    "]\n",
    "svm_rand = RandomizedSearchCV(estimator=svm, param_distributions=svm_params)\n",
    "svm_rand.fit(x_train, y_train)\n",
    "print('SVM Best Score:', svm_rand.best_score_)\n",
    "print('SVM Best Params:', svm_rand.best_params_)\n",
    "\n",
    "time_end_random = time.time()\n",
    "print(f'Total Time: {time_end - time_start} - sec' )"
   ]
  }
 ],
 "metadata": {
  "kernelspec": {
   "display_name": ".venv",
   "language": "python",
   "name": "python3"
  },
  "language_info": {
   "codemirror_mode": {
    "name": "ipython",
    "version": 3
   },
   "file_extension": ".py",
   "mimetype": "text/x-python",
   "name": "python",
   "nbconvert_exporter": "python",
   "pygments_lexer": "ipython3",
   "version": "3.13.1"
  }
 },
 "nbformat": 4,
 "nbformat_minor": 2
}
