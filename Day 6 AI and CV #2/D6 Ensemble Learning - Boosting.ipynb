{
 "cells": [
  {
   "cell_type": "markdown",
   "metadata": {},
   "source": [
    "Ensemble learning"
   ]
  },
  {
   "cell_type": "markdown",
   "metadata": {},
   "source": [
    "Classification"
   ]
  },
  {
   "cell_type": "code",
   "execution_count": 15,
   "metadata": {},
   "outputs": [
    {
     "name": "stdout",
     "output_type": "stream",
     "text": [
      "GB Score: 0.88\n"
     ]
    }
   ],
   "source": [
    "from sklearn.datasets import make_classification\n",
    "from sklearn.model_selection import train_test_split\n",
    "from sklearn.ensemble import GradientBoostingClassifier, AdaBoostClassifier\n",
    "\n",
    "x, y = make_classification(n_samples=100, n_features=5,n_classes=2, random_state=0)\n",
    "x_train, x_test, y_train, y_test = train_test_split(x, y, random_state=0)\n",
    "gb = GradientBoostingClassifier(learning_rate=0.1, random_state=0)                              #more sample more score\n",
    "gb.fit(x_train, y_train)\n",
    "score = gb.score(x_test, y_test)\n",
    "print('GB Score:', score)"
   ]
  },
  {
   "cell_type": "code",
   "execution_count": 8,
   "metadata": {},
   "outputs": [
    {
     "name": "stdout",
     "output_type": "stream",
     "text": [
      "Adaptive Boost Classifier Score :  0.816\n"
     ]
    }
   ],
   "source": [
    "ad = AdaBoostClassifier(learning_rate=0.1,random_state=0)\n",
    "ad.fit(x_train,y_train)\n",
    "ad_score = ad.score(x_test,y_test)\n",
    "print(\"Adaptive Boost Classifier Score : \",ad_score)"
   ]
  },
  {
   "cell_type": "code",
   "execution_count": 11,
   "metadata": {},
   "outputs": [
    {
     "name": "stdout",
     "output_type": "stream",
     "text": [
      "XGB Classifier Score :  0.88\n"
     ]
    }
   ],
   "source": [
    "from xgboost import XGBClassifier\n",
    "\n",
    "xgb = XGBClassifier()\n",
    "xgb.fit(x_train,y_train)\n",
    "xgb_score = xgb.score(x_test, y_test)\n",
    "print(\"XGB Classifier Score : \",xgb_score)"
   ]
  },
  {
   "cell_type": "markdown",
   "metadata": {},
   "source": [
    "Regression"
   ]
  },
  {
   "cell_type": "code",
   "execution_count": 14,
   "metadata": {},
   "outputs": [],
   "source": [
    "from sklearn.datasets import make_regression\n",
    "from sklearn.ensemble import GradientBoostingRegressor,AdaBoostRegressor"
   ]
  },
  {
   "cell_type": "code",
   "execution_count": null,
   "metadata": {},
   "outputs": [
    {
     "name": "stdout",
     "output_type": "stream",
     "text": [
      "Score: 0.7874378881463957\n"
     ]
    }
   ],
   "source": [
    "x_r, y_r = make_regression(n_samples=100, n_features=5, random_state=0,noise=1)                             #noise = ?\n",
    "xr_train, xr_test, yr_train, yr_test = train_test_split(x_r, y_r,test_size=0.2, random_state=0)\n",
    "gbr = GradientBoostingRegressor(learning_rate=0.2, random_state=0)\n",
    "gbr.fit(xr_train, yr_train)\n",
    "gbr_score = gbr.score(xr_test, yr_test)\n",
    "print('Score:', gbr_score)"
   ]
  },
  {
   "cell_type": "code",
   "execution_count": 23,
   "metadata": {},
   "outputs": [
    {
     "name": "stdout",
     "output_type": "stream",
     "text": [
      "Adaptive Boost Regressor Score :  0.7665362673598966\n"
     ]
    }
   ],
   "source": [
    "adr = AdaBoostRegressor(learning_rate=0.2,random_state=0)\n",
    "adr.fit(xr_train,yr_train)\n",
    "adr_score = adr.score(xr_test,yr_test)\n",
    "print(\"Adaptive Boost Regressor Score : \",adr_score)"
   ]
  }
 ],
 "metadata": {
  "kernelspec": {
   "display_name": ".venv",
   "language": "python",
   "name": "python3"
  },
  "language_info": {
   "codemirror_mode": {
    "name": "ipython",
    "version": 3
   },
   "file_extension": ".py",
   "mimetype": "text/x-python",
   "name": "python",
   "nbconvert_exporter": "python",
   "pygments_lexer": "ipython3",
   "version": "3.13.1"
  }
 },
 "nbformat": 4,
 "nbformat_minor": 2
}
