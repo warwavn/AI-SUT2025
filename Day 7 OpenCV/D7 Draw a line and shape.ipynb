{
 "cells": [
  {
   "cell_type": "code",
   "execution_count": 2,
   "metadata": {},
   "outputs": [],
   "source": [
    "import cv2\n",
    "import numpy as np\n",
    "import matplotlib.pyplot as plt"
   ]
  },
  {
   "cell_type": "code",
   "execution_count": 30,
   "metadata": {},
   "outputs": [],
   "source": [
    "img = cv2.imread(r\"C:\\Users\\User\\Desktop\\test\\map.png\")\n",
    "img_resize = cv2.resize(img,(700,700))"
   ]
  },
  {
   "cell_type": "code",
   "execution_count": 3,
   "metadata": {},
   "outputs": [],
   "source": [
    "cv2.imshow(\"Show Image\",img)\n",
    "cv2.waitKey(0)                                  #waiting time for next cmd(in ms)\n",
    "cv2.destroyAllWindows()                         #close window"
   ]
  },
  {
   "cell_type": "markdown",
   "metadata": {},
   "source": [
    "Draw a line"
   ]
  },
  {
   "cell_type": "code",
   "execution_count": 17,
   "metadata": {},
   "outputs": [],
   "source": [
    "# cv2.line(image, start, end , BGR color, line wdth pixel)   \n",
    "cv2.line(img_resize, (0,0), (700,700), (255,0,0), 2)    \n",
    "cv2.line(img_resize, (700,0), (0,700), (0,0,255), 1)  \n",
    "\n",
    "#Arrowed line\n",
    "cv2.arrowedLine(img_resize, (0,350), (700,350), (0,255,0), 2)  \n",
    "cv2.imshow(\"Output Image\",img_resize)\n",
    "cv2.waitKey(0)                                  #waiting time for next cmd(in ms)\n",
    "cv2.destroyAllWindows() "
   ]
  },
  {
   "cell_type": "markdown",
   "metadata": {},
   "source": [
    "Rectangle"
   ]
  },
  {
   "cell_type": "code",
   "execution_count": 32,
   "metadata": {},
   "outputs": [],
   "source": [
    "# cv2.rectangle(image, upper left, lower right, BGR color, line wdth )\n",
    "cv2.rectangle(img_resize, (100,100), (500,500), (0,100,0), 4 )\n",
    "\n",
    "cv2.imshow(\"Output Image\",img_resize)\n",
    "cv2.waitKey(0)                                  \n",
    "cv2.destroyAllWindows() "
   ]
  },
  {
   "cell_type": "markdown",
   "metadata": {},
   "source": [
    "Circle"
   ]
  },
  {
   "cell_type": "code",
   "execution_count": 31,
   "metadata": {},
   "outputs": [],
   "source": [
    "# cv2.circle(image, center point, r, BGR color, line wdth )\n",
    "cv2.circle(img_resize, (350,350), 100, (128,128,128), 2)                # (255,255,255) = white, (0,0,0) = black\n",
    "\n",
    "cv2.imshow(\"Output Image\",img_resize)\n",
    "cv2.waitKey(0)                                  \n",
    "cv2.destroyAllWindows() "
   ]
  },
  {
   "cell_type": "markdown",
   "metadata": {},
   "source": [
    "Text"
   ]
  },
  {
   "cell_type": "code",
   "execution_count": 40,
   "metadata": {},
   "outputs": [],
   "source": [
    "imgc = cv2.imread(r\"C:\\Users\\User\\Desktop\\test\\cat.jpg\")\n",
    "imgc_resize =cv2.resize(imgc,(700,700))\n",
    "\n",
    "# putText(Image, “Text”, Start (x,y), Font, Font size, Color (B,G,R), line types)\n",
    "cv2.putText(imgc_resize, \"This is a cat.\", (200, 350), cv2.FONT_HERSHEY_SIMPLEX, 2, (120,50,255), cv2.LINE_4)\n",
    "\n",
    "cv2.imshow(\"Output Image\",imgc_resize)\n",
    "cv2.waitKey(0)\n",
    "cv2.destroyAllWindows()"
   ]
  },
  {
   "cell_type": "markdown",
   "metadata": {},
   "source": [
    "Put text and time in VDO"
   ]
  },
  {
   "cell_type": "code",
   "execution_count": null,
   "metadata": {},
   "outputs": [],
   "source": [
    "import datetime\n",
    "\n",
    "cap = cv2.VideoCapture(r\"C:\\Users\\User\\Desktop\\test\\shibuya.mp4\")\n",
    "while (cap.isOpened()):\n",
    "    check,frame = cap.read()\n",
    "    if check == True:\n",
    "        dt = str(datetime.datetime.now())\n",
    "        cv2.putText(frame,\"Here is Shibuya, Tokyo, Japan\", (10,30), cv2.FONT_HERSHEY_SIMPLEX,0.8,(0,0,0), cv2.LINE_4)\n",
    "        cv2.putText(frame,dt, (10,70), cv2.FONT_HERSHEY_SIMPLEX,0.8,(0,0,0), cv2.LINE_4)\n",
    "        cv2.imshow(\"Output\",frame)\n",
    "        if cv2.waitKey(1) & 0xFF == ord('x'):\n",
    "            break\n",
    "    else:\n",
    "        break\n",
    "\n",
    "cap.release()\n",
    "cv2.destroyAllWindows()"
   ]
  }
 ],
 "metadata": {
  "kernelspec": {
   "display_name": ".venv",
   "language": "python",
   "name": "python3"
  },
  "language_info": {
   "codemirror_mode": {
    "name": "ipython",
    "version": 3
   },
   "file_extension": ".py",
   "mimetype": "text/x-python",
   "name": "python",
   "nbconvert_exporter": "python",
   "pygments_lexer": "ipython3",
   "version": "3.13.1"
  }
 },
 "nbformat": 4,
 "nbformat_minor": 2
}
