{
 "cells": [
  {
   "cell_type": "code",
   "execution_count": 12,
   "metadata": {},
   "outputs": [],
   "source": [
    "import cv2\n",
    "import numpy as np\n",
    "\n",
    "img = cv2.imread(\"people.jpg\")"
   ]
  },
  {
   "cell_type": "markdown",
   "metadata": {},
   "source": [
    "Face detection"
   ]
  },
  {
   "cell_type": "code",
   "execution_count": 11,
   "metadata": {},
   "outputs": [],
   "source": [
    "face_detection = cv2.CascadeClassifier(\"haarcascade_frontalface_default.xml\")           #model file\n",
    "\n",
    "gray_img = cv2.cvtColor(img,cv2.COLOR_BGR2GRAY)\n",
    "\n",
    "scalefactor = 1.1           #default 1.1, reduce pic size 11%\n",
    "minNeighbors = 2           #same as Neighbor method 3 = like 3 \n",
    "\n",
    "face_detected =face_detection.detectMultiScale(gray_img, scalefactor, minNeighbors)\n",
    "\n",
    "for (x,y,w,h) in face_detected:\n",
    "    cv2.rectangle(img,(x,y), (x+w,y+h), (0,255,0),2)\n",
    "cv2.imshow(\"Face Detection\", img)\n",
    "\n",
    "cv2.waitKey(0)\n",
    "cv2.destroyAllWindows()"
   ]
  },
  {
   "cell_type": "markdown",
   "metadata": {},
   "source": [
    "Eye detection"
   ]
  },
  {
   "cell_type": "code",
   "execution_count": 13,
   "metadata": {},
   "outputs": [],
   "source": [
    "eye_detection = cv2.CascadeClassifier(\"haarcascade_eye_tree_eyeglasses.xml\")\n",
    "gray_img = cv2.cvtColor(img,cv2.COLOR_BGR2GRAY)\n",
    "scaleFactor = 1.1\n",
    "minNeighbors = 3\n",
    "eye_detected = eye_detection.detectMultiScale(gray_img, scaleFactor, minNeighbors)\n",
    "for (x,y,w,h) in eye_detected :\n",
    "    cv2.rectangle(img,(x,y),(x+w,y+h),(0,255,0),thickness=2)\n",
    "cv2.imshow(\"Show Eyes detection Image\",img)\n",
    "#cv2.imshow(\"Show Gray Scale Image\",gray_img)\n",
    "cv2.waitKey(0)\n",
    "cv2.destroyAllWindows()"
   ]
  }
 ],
 "metadata": {
  "kernelspec": {
   "display_name": ".venv",
   "language": "python",
   "name": "python3"
  },
  "language_info": {
   "codemirror_mode": {
    "name": "ipython",
    "version": 3
   },
   "file_extension": ".py",
   "mimetype": "text/x-python",
   "name": "python",
   "nbconvert_exporter": "python",
   "pygments_lexer": "ipython3",
   "version": "3.13.1"
  }
 },
 "nbformat": 4,
 "nbformat_minor": 2
}
