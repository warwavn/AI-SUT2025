{
 "cells": [
  {
   "cell_type": "markdown",
   "metadata": {},
   "source": []
  },
  {
   "cell_type": "code",
   "execution_count": 2,
   "metadata": {},
   "outputs": [],
   "source": [
    "import cv2\n",
    "import numpy as np"
   ]
  },
  {
   "cell_type": "code",
   "execution_count": 4,
   "metadata": {},
   "outputs": [
    {
     "name": "stdout",
     "output_type": "stream",
     "text": [
      "8\n",
      "16\n",
      "22\n",
      "27\n",
      "30\n",
      "33\n",
      "3\n",
      "8\n",
      "14\n",
      "22\n",
      "30\n",
      "33\n",
      "44\n",
      "52\n",
      "60\n",
      "66\n",
      "69\n",
      "71\n",
      "74\n",
      "8\n",
      "11\n",
      "19\n",
      "30\n",
      "44\n",
      "52\n",
      "60\n",
      "66\n",
      "69\n",
      "77\n",
      "85\n",
      "88\n",
      "90\n",
      "93\n",
      "96\n",
      "99\n",
      "101\n",
      "104\n",
      "107\n",
      "110\n",
      "112\n",
      "115\n"
     ]
    }
   ],
   "source": [
    "img = np.zeros((300,250,3), np.uint8)\n",
    "cv2.namedWindow(\"Color Trackbar\")\n",
    "def display(value):\n",
    "    print(value)\n",
    "cv2.createTrackbar(\"B\", \"Color Trackbar\", 0,255, display)\n",
    "cv2.createTrackbar(\"G\", \"Color Trackbar\", 0,255, display)\n",
    "cv2.createTrackbar(\"R\", \"Color Trackbar\", 0,255, display)\n",
    "while True:\n",
    "    cv2.imshow(\"Color Trackbar\", img)\n",
    "    if cv2.waitKey(1) & 0xFF ==ord(\"e\"):\n",
    "        break\n",
    "    blue = cv2.getTrackbarPos(\"B\",\"Color Trackbar\")\n",
    "    green = cv2.getTrackbarPos(\"G\",\"Color Trackbar\")\n",
    "    red = cv2.getTrackbarPos(\"R\",\"Color Trackbar\")\n",
    "    \n",
    "    img[:] = [blue,green,red]\n",
    "cv2.destroyAllWindows()"
   ]
  }
 ],
 "metadata": {
  "kernelspec": {
   "display_name": ".venv",
   "language": "python",
   "name": "python3"
  },
  "language_info": {
   "codemirror_mode": {
    "name": "ipython",
    "version": 3
   },
   "file_extension": ".py",
   "mimetype": "text/x-python",
   "name": "python",
   "nbconvert_exporter": "python",
   "pygments_lexer": "ipython3",
   "version": "3.13.1"
  }
 },
 "nbformat": 4,
 "nbformat_minor": 2
}
