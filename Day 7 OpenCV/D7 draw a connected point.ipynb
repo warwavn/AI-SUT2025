{
 "cells": [
  {
   "cell_type": "code",
   "execution_count": 8,
   "metadata": {},
   "outputs": [],
   "source": [
    "import cv2\n",
    "import numpy as np\n",
    "\n",
    "img = cv2.imread(\"map.png\")\n",
    "# img = np.zeros([255,255,0])"
   ]
  },
  {
   "cell_type": "code",
   "execution_count": 10,
   "metadata": {},
   "outputs": [
    {
     "name": "stdout",
     "output_type": "stream",
     "text": [
      "[(287, 143)]\n",
      "[(287, 143), (651, 126)]\n",
      "[(287, 143), (651, 126), (258, 237)]\n",
      "[(287, 143), (651, 126), (258, 237), (119, 395)]\n",
      "[(287, 143), (651, 126), (258, 237), (119, 395), (138, 536)]\n",
      "[(287, 143), (651, 126), (258, 237), (119, 395), (138, 536), (125, 627)]\n",
      "[(287, 143), (651, 126), (258, 237), (119, 395), (138, 536), (125, 627), (211, 665)]\n"
     ]
    }
   ],
   "source": [
    "points =[]\n",
    "def clickPosition(event,x,y,flags,param):\n",
    "    if event == cv2.EVENT_LBUTTONDOWN :\n",
    "        cv2.circle(img,(x,y),10,(0,0,255),5)\n",
    "        points.append((x,y))\n",
    "        print(points)\n",
    "        if len(points) >= 2:\n",
    "            cv2.line(img,points[-2],points[-1],(0,255,0),5)\n",
    "        cv2.imshow(\"Output image\", img)\n",
    "\n",
    "cv2.imshow(\"Output image\", img)\n",
    "cv2.setMouseCallback(\"Output image\",clickPosition)\n",
    "cv2.waitKey(0)\n",
    "cv2.destroyAllWindows()"
   ]
  }
 ],
 "metadata": {
  "kernelspec": {
   "display_name": ".venv",
   "language": "python",
   "name": "python3"
  },
  "language_info": {
   "codemirror_mode": {
    "name": "ipython",
    "version": 3
   },
   "file_extension": ".py",
   "mimetype": "text/x-python",
   "name": "python",
   "nbconvert_exporter": "python",
   "pygments_lexer": "ipython3",
   "version": "3.13.1"
  }
 },
 "nbformat": 4,
 "nbformat_minor": 2
}
