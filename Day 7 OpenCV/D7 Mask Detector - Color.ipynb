{
 "cells": [
  {
   "cell_type": "code",
   "execution_count": 2,
   "metadata": {},
   "outputs": [],
   "source": [
    "import cv2\n",
    "import numpy as np"
   ]
  },
  {
   "cell_type": "markdown",
   "metadata": {},
   "source": [
    "BGR"
   ]
  },
  {
   "cell_type": "code",
   "execution_count": 6,
   "metadata": {},
   "outputs": [],
   "source": [
    "img = cv2.imread(\"colorballs.jpg\")\n",
    "img = cv2.resize(img,(400,400))\n",
    "\n",
    "#Color range - BGR\n",
    "lower = np.array([0,150,0])\n",
    "upper = np.array([200,255,150])\n",
    "\n",
    "\n",
    "mask = cv2.inRange(img,lower,upper)\n",
    "result = cv2.bitwise_and(img,img,mask=mask)        #compare value \n",
    "\n",
    "cv2.imshow(\"Original Image\",img)\n",
    "cv2.imshow(\"Mask\",mask)\n",
    "cv2.imshow(\"Result\",result)\n",
    "cv2.waitKey(0)                                  #waiting time for next cmd(in ms)\n",
    "cv2.destroyAllWindows() "
   ]
  },
  {
   "cell_type": "markdown",
   "metadata": {},
   "source": [
    "HSV"
   ]
  },
  {
   "cell_type": "code",
   "execution_count": 8,
   "metadata": {},
   "outputs": [],
   "source": [
    "hsv = cv2.cvtColor(img,cv2.COLOR_BGR2HSV)\n",
    "lower = np.array([40,0,0])\n",
    "upper = np.array([90,255,255])\n",
    "\n",
    "\n",
    "mask = cv2.inRange(hsv,lower,upper)\n",
    "result = cv2.bitwise_and(hsv,hsv,mask=mask)        #compare value \n",
    "\n",
    "cv2.imshow(\"Original Image\",hsv)\n",
    "cv2.imshow(\"Mask\",mask)\n",
    "cv2.imshow(\"Result\",result)\n",
    "cv2.waitKey(0)                                  #waiting time for next cmd(in ms)\n",
    "cv2.destroyAllWindows() "
   ]
  },
  {
   "cell_type": "markdown",
   "metadata": {},
   "source": [
    "Webcam color detection"
   ]
  },
  {
   "cell_type": "code",
   "execution_count": 10,
   "metadata": {},
   "outputs": [],
   "source": [
    "cap = cv2.VideoCapture(0)\n",
    "\n",
    "while(True):\n",
    "    check,frame = cap.read()\n",
    "    hsv = cv2.cvtColor(frame,cv2.COLOR_BGR2HSV)\n",
    "    lower = np.array([40,0,0])\n",
    "    upper = np.array([90,255,255])\n",
    "    mask = cv2.inRange(hsv,lower,upper)\n",
    "    result = cv2.bitwise_and(hsv,hsv,mask=mask)   \n",
    "\n",
    "    cv2.imshow(\"Result Frame\", result)\n",
    "    if cv2.waitKey(1) & 0xFF == ord('x'):           #close frame follow key\n",
    "        break  \n",
    "\n",
    "cap.release()\n",
    "cv2.destroyAllWindows()"
   ]
  },
  {
   "cell_type": "code",
   "execution_count": null,
   "metadata": {},
   "outputs": [],
   "source": [
    "cap = cv2.VideoCapture(0)\n",
    "\n",
    "while(True):\n",
    "    check,frame = cap.read()                        #several capture present with while loop\n",
    "    flip_frame = cv2.flip(frame,1)                  #0 = x, 1 = y\n",
    "    cv2.imshow(\"My Cap\",flip_frame)\n",
    "    if cv2.waitKey(1) & 0xFF == ord('q'):           #close frame follow key\n",
    "        break                \n",
    "cap.release()\n",
    "cv2.destroyAllWindows()    "
   ]
  }
 ],
 "metadata": {
  "kernelspec": {
   "display_name": ".venv",
   "language": "python",
   "name": "python3"
  },
  "language_info": {
   "codemirror_mode": {
    "name": "ipython",
    "version": 3
   },
   "file_extension": ".py",
   "mimetype": "text/x-python",
   "name": "python",
   "nbconvert_exporter": "python",
   "pygments_lexer": "ipython3",
   "version": "3.13.1"
  }
 },
 "nbformat": 4,
 "nbformat_minor": 2
}
