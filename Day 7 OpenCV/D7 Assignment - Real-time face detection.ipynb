{
 "cells": [
  {
   "cell_type": "code",
   "execution_count": 1,
   "metadata": {},
   "outputs": [],
   "source": [
    "import cv2\n",
    "import pandas as pd\n",
    "import numpy as np"
   ]
  },
  {
   "cell_type": "code",
   "execution_count": 21,
   "metadata": {},
   "outputs": [],
   "source": [
    "cap = cv2.VideoCapture(0)\n",
    "face_detection = cv2.CascadeClassifier(r\"C:\\Users\\User\\Desktop\\test\\haarcascade_frontalface_default.xml\")\n",
    "scaleFactor = 1.1 # default =1.1 - Scale the image down to 11% before scanning.\n",
    "minNeighbors = 4\n",
    "\n",
    "while(True):\n",
    "    check,frame = cap.read()                        #several capture present with while loop\n",
    "    # cv2.imshow(\"My Cap\",frame)\n",
    "    if check == True:\n",
    "        img = cv2.cvtColor(frame,cv2.COLOR_BGR2GRAY)\n",
    "        face_detected = face_detection.detectMultiScale(img, scaleFactor, minNeighbors)\n",
    "        for (x,y,w,h) in face_detected :\n",
    "            cv2.rectangle(frame,(x,y),(x+w,y+h),(0,255,0),thickness=2)\n",
    "            cv2.putText(frame,f\"Total faces: {len(face_detected)}\", (10,30), cv2.FONT_HERSHEY_PLAIN ,2.0,(0,0,0),cv2.LINE_4)\n",
    "            cv2.imshow(\"Output\",frame)\n",
    "    if cv2.waitKey(1) & 0xFF == ord('q'):           #close frame follow key\n",
    "        break             \n",
    "cap.release()\n",
    "cv2.destroyAllWindows()   "
   ]
  }
 ],
 "metadata": {
  "kernelspec": {
   "display_name": ".venv",
   "language": "python",
   "name": "python3"
  },
  "language_info": {
   "codemirror_mode": {
    "name": "ipython",
    "version": 3
   },
   "file_extension": ".py",
   "mimetype": "text/x-python",
   "name": "python",
   "nbconvert_exporter": "python",
   "pygments_lexer": "ipython3",
   "version": "3.13.1"
  }
 },
 "nbformat": 4,
 "nbformat_minor": 2
}
