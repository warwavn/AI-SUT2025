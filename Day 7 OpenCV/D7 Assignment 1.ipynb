{
 "cells": [
  {
   "cell_type": "code",
   "execution_count": 1,
   "metadata": {},
   "outputs": [],
   "source": [
    "import cv2\n",
    "import numpy as np\n",
    "import matplotlib.pyplot as plt"
   ]
  },
  {
   "cell_type": "code",
   "execution_count": 25,
   "metadata": {},
   "outputs": [],
   "source": [
    "img = cv2.imread(r\"C:\\Users\\User\\Desktop\\test\\RGB.png\")           \n",
    "img_resize = cv2.resize(img,(400,400))\n",
    "\n",
    "# cv2.putText(img_resize, \"This is a cat.\", (200, 350), cv2.FONT_HERSHEY_SIMPLEX, 2, (120,50,255), cv2.LINE_4)\n",
    "\n",
    "\n",
    "# cv2.imshow(\"Resized GS img\",img_resize)\n",
    "# cv2.waitKey(5000)                                  #waiting time for next cmd(in ms)\n",
    "# cv2.destroyAllWindows()  "
   ]
  },
  {
   "cell_type": "code",
   "execution_count": 26,
   "metadata": {},
   "outputs": [],
   "source": [
    "\n",
    "def clickPosition(event,x,y,flags,param):\n",
    "    if event == cv2.EVENT_LBUTTONDOWN :\n",
    "        b, g, r = img[y, x]\n",
    "        rgb_color = (b, g, r)  # Convert BGR to RGB\n",
    "\n",
    "        # Display text with RGB values on the image\n",
    "        text = f\"{tuple(map(int, rgb_color))}\"\n",
    "        cv2.putText(img, text, (x + 10, y - 10), cv2.FONT_HERSHEY_SIMPLEX,1, (0, 0, 0), 2, cv2.LINE_4)\n",
    "        cv2.imshow(\"Output Image\",img)\n",
    "\n",
    "cv2.imshow(\"Output Image\",img)\n",
    "cv2.setMouseCallback(\"Output Image\",clickPosition)\n",
    "cv2.waitKey(0)\n",
    "cv2.destroyAllWindows()"
   ]
  }
 ],
 "metadata": {
  "kernelspec": {
   "display_name": ".venv",
   "language": "python",
   "name": "python3"
  },
  "language_info": {
   "codemirror_mode": {
    "name": "ipython",
    "version": 3
   },
   "file_extension": ".py",
   "mimetype": "text/x-python",
   "name": "python",
   "nbconvert_exporter": "python",
   "pygments_lexer": "ipython3",
   "version": "3.13.1"
  }
 },
 "nbformat": 4,
 "nbformat_minor": 2
}
