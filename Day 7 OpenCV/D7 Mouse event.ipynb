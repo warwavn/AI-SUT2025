{
 "cells": [
  {
   "cell_type": "code",
   "execution_count": 10,
   "metadata": {},
   "outputs": [],
   "source": [
    "import cv2\n",
    "img = cv2.imread(\"map.png\")"
   ]
  },
  {
   "cell_type": "code",
   "execution_count": 6,
   "metadata": {},
   "outputs": [],
   "source": [
    "# def clickPosition(event,x,y,flags,param):\n",
    "#     if event == cv2.EVENT_LBUTTONDOWN:\n",
    "#         cv2.putText(img,\"I'm here!\",(x,y),cv2.FONT_HERSHEY_PLAIN,2,(0,0,255),cv2.LINE_4)\n",
    "#         cv2.imshow(\"Output img\",img)\n",
    "# cv2.imshow(\"Output img\",img)\n",
    "# cv2.setMouseCallback(\"Output img\",clickPosition)\n",
    "\n",
    "# cv2.waitKey(0)\n",
    "# cv2.destroyAllWindows()"
   ]
  },
  {
   "cell_type": "code",
   "execution_count": 11,
   "metadata": {},
   "outputs": [],
   "source": [
    "def clickPosition(event,x,y,flags,param):\n",
    "# show coordinate (x,y)\n",
    "    if event == cv2.EVENT_LBUTTONDOWN :\n",
    "        text = \"(\"+str(x)+\",\"+str(y)+\")\"\n",
    "        cv2.putText(img,text,(x,y), cv2.FONT_HERSHEY_SIMPLEX,1,(0,0,255),cv2.LINE_4)\n",
    "        cv2.imshow(\"Output Image\",img)\n",
    "\n",
    "cv2.imshow(\"Output img\",img)\n",
    "cv2.setMouseCallback(\"Output img\",clickPosition)\n",
    "\n",
    "cv2.waitKey(0)\n",
    "cv2.destroyAllWindows()"
   ]
  }
 ],
 "metadata": {
  "kernelspec": {
   "display_name": ".venv",
   "language": "python",
   "name": "python3"
  },
  "language_info": {
   "codemirror_mode": {
    "name": "ipython",
    "version": 3
   },
   "file_extension": ".py",
   "mimetype": "text/x-python",
   "name": "python",
   "nbconvert_exporter": "python",
   "pygments_lexer": "ipython3",
   "version": "3.13.1"
  }
 },
 "nbformat": 4,
 "nbformat_minor": 2
}
