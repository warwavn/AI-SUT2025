{
 "cells": [
  {
   "cell_type": "code",
   "execution_count": 1,
   "metadata": {},
   "outputs": [],
   "source": [
    "from sklearn.preprocessing import PolynomialFeatures\n",
    "from sklearn.linear_model import LinearRegression\n",
    "import matplotlib.pyplot as plt\n",
    "import numpy as np\n",
    "from sklearn.metrics import mean_squared_error, r2_score\n"
   ]
  },
  {
   "cell_type": "code",
   "execution_count": 2,
   "metadata": {},
   "outputs": [],
   "source": [
    "x = [0, 20, 40, 60, 80, 100]\n",
    "y = [0.0002, 0.0012, 0.0060, 0.0300, 0.0900, 0.2700]"
   ]
  },
  {
   "cell_type": "code",
   "execution_count": 3,
   "metadata": {},
   "outputs": [
    {
     "data": {
      "image/png": "[encoded data removed]",
      "text/plain": [
       "<Figure size 400x300 with 1 Axes>"
      ]
     },
     "metadata": {},
     "output_type": "display_data"
    }
   ],
   "source": [
    "plt.figure(figsize=(4, 3))\n",
    "plt.scatter(x, y, c='g')\n",
    "plt.show()"
   ]
  },
  {
   "cell_type": "code",
   "execution_count": 5,
   "metadata": {},
   "outputs": [],
   "source": [
    "pf = PolynomialFeatures(degree=3)\n",
    "x = np.array(x).reshape(-1,1)\n",
    "x_poly = pf.fit_transform(x)\n",
    "\n",
    "model = LinearRegression()\n",
    "model.fit(x_poly,y)\n",
    "\n",
    "y_pred = model.predict(x_poly)"
   ]
  },
  {
   "cell_type": "code",
   "execution_count": 7,
   "metadata": {},
   "outputs": [
    {
     "name": "stdout",
     "output_type": "stream",
     "text": [
      "Model's acc = 0.9966691251761722\n"
     ]
    }
   ],
   "source": [
    "score = r2_score(y,y_pred)\n",
    "print(f\"Model's acc =\",score)"
   ]
  },
  {
   "cell_type": "markdown",
   "metadata": {},
   "source": [
    "Q: Determine pressure of machine when temp - 50, 70 and 95 C"
   ]
  },
  {
   "cell_type": "code",
   "execution_count": 10,
   "metadata": {},
   "outputs": [
    {
     "name": "stdout",
     "output_type": "stream",
     "text": [
      " Temperature = 50 deg C, pressure(psi) = 0.0081\n",
      " Temperature = 70 deg C, pressure(psi) = 0.0512\n",
      " Temperature = 90 deg C, pressure(psi) = 0.1692\n"
     ]
    }
   ],
   "source": [
    "x_predict = [[50],[70],[90]]\n",
    "y_predict = model.predict(pf.transform(x_predict))          #fit only 1st time\n",
    "\n",
    "for (i,x_p) in enumerate(x_predict):\n",
    "    pressure = '{:.4f}'.format(y_predict[i])\n",
    "    print(f\" Temperature = {x_p[0]} deg C, pressure(psi) = {pressure}\")"
   ]
  }
 ],
 "metadata": {
  "kernelspec": {
   "display_name": ".venv",
   "language": "python",
   "name": "python3"
  },
  "language_info": {
   "codemirror_mode": {
    "name": "ipython",
    "version": 3
   },
   "file_extension": ".py",
   "mimetype": "text/x-python",
   "name": "python",
   "nbconvert_exporter": "python",
   "pygments_lexer": "ipython3",
   "version": "3.13.1"
  }
 },
 "nbformat": 4,
 "nbformat_minor": 2
}
