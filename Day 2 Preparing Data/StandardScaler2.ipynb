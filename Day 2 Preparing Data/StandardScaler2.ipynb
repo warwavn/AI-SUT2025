{
 "cells": [
  {
   "cell_type": "code",
   "execution_count": 7,
   "metadata": {},
   "outputs": [],
   "source": [
    "import pandas as pd\n",
    "from sklearn.preprocessing import StandardScaler"
   ]
  },
  {
   "cell_type": "code",
   "execution_count": 8,
   "metadata": {},
   "outputs": [
    {
     "data": {
      "text/html": [
       "<div>\n",
       "<style scoped>\n",
       "    .dataframe tbody tr th:only-of-type {\n",
       "        vertical-align: middle;\n",
       "    }\n",
       "\n",
       "    .dataframe tbody tr th {\n",
       "        vertical-align: top;\n",
       "    }\n",
       "\n",
       "    .dataframe thead th {\n",
       "        text-align: right;\n",
       "    }\n",
       "</style>\n",
       "<table border=\"1\" class=\"dataframe\">\n",
       "  <thead>\n",
       "    <tr style=\"text-align: right;\">\n",
       "      <th></th>\n",
       "      <th>Unnamed: 0</th>\n",
       "      <th>car</th>\n",
       "      <th>color</th>\n",
       "      <th>volume</th>\n",
       "      <th>weight</th>\n",
       "      <th>co2</th>\n",
       "    </tr>\n",
       "  </thead>\n",
       "  <tbody>\n",
       "    <tr>\n",
       "      <th>0</th>\n",
       "      <td>0</td>\n",
       "      <td>Honda Civic</td>\n",
       "      <td>Red</td>\n",
       "      <td>1600.000000</td>\n",
       "      <td>1252.000</td>\n",
       "      <td>94</td>\n",
       "    </tr>\n",
       "    <tr>\n",
       "      <th>1</th>\n",
       "      <td>1</td>\n",
       "      <td>Suzuki Swift</td>\n",
       "      <td>White</td>\n",
       "      <td>1300.000000</td>\n",
       "      <td>1394.125</td>\n",
       "      <td>101</td>\n",
       "    </tr>\n",
       "    <tr>\n",
       "      <th>2</th>\n",
       "      <td>2</td>\n",
       "      <td>Mazda 3</td>\n",
       "      <td>Black</td>\n",
       "      <td>1714.285714</td>\n",
       "      <td>1280.000</td>\n",
       "      <td>104</td>\n",
       "    </tr>\n",
       "    <tr>\n",
       "      <th>3</th>\n",
       "      <td>3</td>\n",
       "      <td>Benz CLA</td>\n",
       "      <td>Black</td>\n",
       "      <td>1714.285714</td>\n",
       "      <td>1465.000</td>\n",
       "      <td>102</td>\n",
       "    </tr>\n",
       "    <tr>\n",
       "      <th>4</th>\n",
       "      <td>4</td>\n",
       "      <td>Mini Cooper</td>\n",
       "      <td>Red</td>\n",
       "      <td>1500.000000</td>\n",
       "      <td>1394.125</td>\n",
       "      <td>105</td>\n",
       "    </tr>\n",
       "    <tr>\n",
       "      <th>5</th>\n",
       "      <td>5</td>\n",
       "      <td>Ford Focus</td>\n",
       "      <td>Blue</td>\n",
       "      <td>2000.000000</td>\n",
       "      <td>1328.000</td>\n",
       "      <td>105</td>\n",
       "    </tr>\n",
       "    <tr>\n",
       "      <th>6</th>\n",
       "      <td>6</td>\n",
       "      <td>Benz C-Class</td>\n",
       "      <td>Silver</td>\n",
       "      <td>1714.285714</td>\n",
       "      <td>1365.000</td>\n",
       "      <td>99</td>\n",
       "    </tr>\n",
       "    <tr>\n",
       "      <th>7</th>\n",
       "      <td>7</td>\n",
       "      <td>Benz E-Class</td>\n",
       "      <td>While</td>\n",
       "      <td>2100.000000</td>\n",
       "      <td>1605.000</td>\n",
       "      <td>115</td>\n",
       "    </tr>\n",
       "    <tr>\n",
       "      <th>8</th>\n",
       "      <td>8</td>\n",
       "      <td>Ford Fiesta</td>\n",
       "      <td>Red</td>\n",
       "      <td>1500.000000</td>\n",
       "      <td>1112.000</td>\n",
       "      <td>98</td>\n",
       "    </tr>\n",
       "    <tr>\n",
       "      <th>9</th>\n",
       "      <td>9</td>\n",
       "      <td>Volvo XC70</td>\n",
       "      <td>Silver</td>\n",
       "      <td>2000.000000</td>\n",
       "      <td>1746.000</td>\n",
       "      <td>117</td>\n",
       "    </tr>\n",
       "  </tbody>\n",
       "</table>\n",
       "</div>"
      ],
      "text/plain": [
       "   Unnamed: 0           car   color       volume    weight  co2\n",
       "0           0   Honda Civic     Red  1600.000000  1252.000   94\n",
       "1           1  Suzuki Swift   White  1300.000000  1394.125  101\n",
       "2           2       Mazda 3   Black  1714.285714  1280.000  104\n",
       "3           3      Benz CLA   Black  1714.285714  1465.000  102\n",
       "4           4   Mini Cooper     Red  1500.000000  1394.125  105\n",
       "5           5    Ford Focus    Blue  2000.000000  1328.000  105\n",
       "6           6  Benz C-Class  Silver  1714.285714  1365.000   99\n",
       "7           7  Benz E-Class   While  2100.000000  1605.000  115\n",
       "8           8   Ford Fiesta     Red  1500.000000  1112.000   98\n",
       "9           9    Volvo XC70  Silver  2000.000000  1746.000  117"
      ]
     },
     "execution_count": 8,
     "metadata": {},
     "output_type": "execute_result"
    }
   ],
   "source": [
    "df = pd.read_csv(r\"C:\\Users\\User\\Documents\\cleaned-ex_missing_value.csv\")\n",
    "df"
   ]
  },
  {
   "cell_type": "markdown",
   "metadata": {},
   "source": [
    "\n",
    "df.fillna({\"weight\":df['weight'].mean()}, inplace=True)\\\n",
    "df.fillna({\"volume\":df['volume'].mean()}, inplace=True)"
   ]
  },
  {
   "cell_type": "code",
   "execution_count": 9,
   "metadata": {},
   "outputs": [
    {
     "name": "stdout",
     "output_type": "stream",
     "text": [
      "[[-0.4710775  -0.83265539]\n",
      " [-1.70765593  0.        ]\n",
      " [ 0.         -0.66861422]\n",
      " [ 0.          0.4152292 ]\n",
      " [-0.88327031  0.        ]\n",
      " [ 1.17769374 -0.38740079]\n",
      " [ 0.         -0.17063211]\n",
      " [ 1.58988655  1.23543504]\n",
      " [-0.88327031 -1.65286122]\n",
      " [ 1.17769374  2.06149948]]\n"
     ]
    }
   ],
   "source": [
    "scaler = StandardScaler()\n",
    "scaler.fit(df[['volume','weight']])\n",
    "scaled = scaler.transform(df[['volume','weight']])\n",
    "print(scaled)\n"
   ]
  }
 ],
 "metadata": {
  "kernelspec": {
   "display_name": ".venv",
   "language": "python",
   "name": "python3"
  },
  "language_info": {
   "codemirror_mode": {
    "name": "ipython",
    "version": 3
   },
   "file_extension": ".py",
   "mimetype": "text/x-python",
   "name": "python",
   "nbconvert_exporter": "python",
   "pygments_lexer": "ipython3",
   "version": "3.13.1"
  }
 },
 "nbformat": 4,
 "nbformat_minor": 2
}
